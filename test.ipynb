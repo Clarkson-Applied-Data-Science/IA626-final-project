{
 "cells": [
  {
   "cell_type": "code",
   "execution_count": 11,
   "metadata": {},
   "outputs": [
    {
     "name": "stdout",
     "output_type": "stream",
     "text": [
      "Jonathan Marchessault 13\n",
      "Leon Draisaitl 13\n",
      "Mark Stone 11\n",
      "William Karlsson 11\n",
      "Matthew Tkachuk 11\n",
      "Chandler Stephenson 10\n",
      "Roope Hintz 10\n",
      "Joe Pavelski 9\n",
      "Sam Reinhart 8\n",
      "Brandon Montour 8\n"
     ]
    }
   ],
   "source": [
    "import json,pymysql,time,requests\n",
    "from flask import Flask\n",
    "from flask import request,redirect\n",
    "import matplotlib.pyplot as plt\n",
    "import numpy as np\n",
    "\n",
    "url = 'http://127.0.0.1:5000/getTopScorers?season=2022&playoffs=1'\n",
    "r = requests.get(url)\n",
    "data = json.loads(r.text)\n",
    "for row in data['rows']:\n",
    "    print(row['name'], row['goals'])"
   ]
  }
 ],
 "metadata": {
  "kernelspec": {
   "display_name": "Python 3",
   "language": "python",
   "name": "python3"
  },
  "language_info": {
   "codemirror_mode": {
    "name": "ipython",
    "version": 3
   },
   "file_extension": ".py",
   "mimetype": "text/x-python",
   "name": "python",
   "nbconvert_exporter": "python",
   "pygments_lexer": "ipython3",
   "version": "3.9.1"
  }
 },
 "nbformat": 4,
 "nbformat_minor": 2
}
