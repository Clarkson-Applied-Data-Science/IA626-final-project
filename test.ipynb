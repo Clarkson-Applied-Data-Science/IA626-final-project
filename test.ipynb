{
 "cells": [
  {
   "cell_type": "code",
   "execution_count": 1,
   "metadata": {},
   "outputs": [
    {
     "name": "stdout",
     "output_type": "stream",
     "text": [
      "Connor McDavid 63\n",
      "David Pastrnak 61\n",
      "Mikko Rantanen 55\n",
      "Leon Draisaitl 52\n",
      "Brayden Point 51\n",
      "Tage Thompson 47\n",
      "Jason Robertson 46\n",
      "Jack Hughes 43\n",
      "Nathan MacKinnon 42\n",
      "Mark Scheifele 42\n"
     ]
    }
   ],
   "source": [
    "import json,pymysql,time,requests\n",
    "from flask import Flask\n",
    "from flask import request,redirect\n",
    "import matplotlib.pyplot as plt\n",
    "import numpy as np\n",
    "\n",
    "url = 'http://127.0.0.1:5000/getTopScorers?season=2022&playoffs=0'\n",
    "r = requests.get(url)\n",
    "data = json.loads(r.text)\n",
    "for row in data['rows']:\n",
    "    print(row['name'], row['goals'])"
   ]
  },
  {
   "cell_type": "code",
   "execution_count": 35,
   "metadata": {},
   "outputs": [
    {
     "name": "stdout",
     "output_type": "stream",
     "text": [
      "[['playerId', 'name', 'position', 'birthDate', 'weight', 'height', 'nationality', 'shootsCatches', 'primaryNumber'], ['8471675', 'Sidney Crosby', 'C', '1987-08-07', '200', '5\\' 11\"', 'CAN', 'L', '87']]\n"
     ]
    }
   ],
   "source": [
    "url = 'http://127.0.0.1:5000/getPlayer?name=Sidney Crosby'\n",
    "r = requests.get(url)\n",
    "data = json.loads(r.text)\n",
    "l = []\n",
    "l.append(list(data['rows'][0]))\n",
    "for row in data['rows']:\n",
    "    l.append(list(row.values()))\n",
    "print(l)"
   ]
  },
  {
   "cell_type": "code",
   "execution_count": 37,
   "metadata": {},
   "outputs": [
    {
     "name": "stdout",
     "output_type": "stream",
     "text": [
      "[['teamCode', 'goals', 'generatedRebounds', 'goalieFroze', 'onEmptyNet', 'rebounds', 'onRush', 'onGoal'], ['VGK', 265, 244, 526, 25, 244, 7, 2589]]\n"
     ]
    }
   ],
   "source": [
    "url = 'http://127.0.0.1:5000/getAdvstats?team=VGK&season=2022&playoffs=0'\n",
    "r = requests.get(url)\n",
    "data = json.loads(r.text)\n",
    "l = []\n",
    "l.append(list(data['rows'][0]))\n",
    "for row in data['rows']:\n",
    "    l.append(list(row.values()))\n",
    "print(l)"
   ]
  }
 ],
 "metadata": {
  "kernelspec": {
   "display_name": "Python 3",
   "language": "python",
   "name": "python3"
  },
  "language_info": {
   "codemirror_mode": {
    "name": "ipython",
    "version": 3
   },
   "file_extension": ".py",
   "mimetype": "text/x-python",
   "name": "python",
   "nbconvert_exporter": "python",
   "pygments_lexer": "ipython3",
   "version": "3.9.1"
  }
 },
 "nbformat": 4,
 "nbformat_minor": 2
}
