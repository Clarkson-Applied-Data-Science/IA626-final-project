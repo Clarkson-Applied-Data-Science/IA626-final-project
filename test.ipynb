{
 "cells": [
  {
   "cell_type": "code",
   "execution_count": 1,
   "metadata": {},
   "outputs": [
    {
     "name": "stdout",
     "output_type": "stream",
     "text": [
      "{'code': 1, 'msg': 'ok', 'req': '/getTopScorers', 'rows': [{'name': 'Connor McDavid', 'goals': 63}, {'name': 'David Pastrnak', 'goals': 61}, {'name': 'Mikko Rantanen', 'goals': 55}, {'name': 'Leon Draisaitl', 'goals': 52}, {'name': 'Brayden Point', 'goals': 51}, {'name': 'Tage Thompson', 'goals': 47}, {'name': 'Jason Robertson', 'goals': 46}, {'name': 'Jack Hughes', 'goals': 43}, {'name': 'Nathan MacKinnon', 'goals': 42}, {'name': 'Mark Scheifele', 'goals': 42}]}\n"
     ]
    }
   ],
   "source": [
    "import json,pymysql,time,requests\n",
    "from flask import Flask\n",
    "from flask import request,redirect\n",
    "import matplotlib.pyplot as plt\n",
    "import numpy as np\n",
    "#Testing endoints of app.py\n",
    "url = 'http://127.0.0.1:5000/getPlayer?name=Sidney Crosby'\n",
    "r = requests.get(url)\n",
    "data = json.loads(r.text)\n",
    "print(data)"
   ]
  },
  {
   "cell_type": "code",
   "execution_count": 3,
   "metadata": {},
   "outputs": [
    {
     "name": "stdout",
     "output_type": "stream",
     "text": [
      "{'code': 1, 'msg': 'ok', 'req': '/getPlayer', 'rows': [{'playerId': '8471675', 'position': 'C', 'birthDate': '1987-08-07', 'weight': '200', 'height': '5\\' 11\"', 'nationality': 'CAN', 'shootsCatches': 'L', 'primaryNumber': '87'}]}\n"
     ]
    }
   ],
   "source": [
    "url = 'http://127.0.0.1:5000/getTopScorers?season=2022&playoffs=0'\n",
    "r = requests.get(url)\n",
    "data = json.loads(r.text)\n",
    "print(data)"
   ]
  },
  {
   "cell_type": "code",
   "execution_count": 5,
   "metadata": {},
   "outputs": [
    {
     "name": "stdout",
     "output_type": "stream",
     "text": [
      "{'code': 1, 'msg': 'ok', 'req': '/getTeamShootingPct', 'rows': [{'team': 'STL', 'shootingPct': '9.28'}, {'team': 'MIN', 'shootingPct': '8.50'}, {'team': 'FLA', 'shootingPct': '8.32'}, {'team': 'COL', 'shootingPct': '8.06'}, {'team': 'TBL', 'shootingPct': '8.01'}, {'team': 'TOR', 'shootingPct': '7.99'}, {'team': 'NYR', 'shootingPct': '7.61'}, {'team': 'NSH', 'shootingPct': '7.58'}, {'team': 'EDM', 'shootingPct': '7.57'}, {'team': 'WSH', 'shootingPct': '7.56'}, {'team': 'CBJ', 'shootingPct': '7.50'}, {'team': 'CGY', 'shootingPct': '7.24'}, {'team': 'NYI', 'shootingPct': '7.13'}, {'team': 'DET', 'shootingPct': '7.11'}, {'team': 'PIT', 'shootingPct': '7.06'}, {'team': 'BUF', 'shootingPct': '6.97'}, {'team': 'CAR', 'shootingPct': '6.97'}, {'team': 'ARI', 'shootingPct': '6.94'}, {'team': 'WPG', 'shootingPct': '6.88'}, {'team': 'VGK', 'shootingPct': '6.86'}, {'team': 'VAN', 'shootingPct': '6.85'}, {'team': 'ANA', 'shootingPct': '6.83'}, {'team': 'NJD', 'shootingPct': '6.83'}, {'team': 'CHI', 'shootingPct': '6.80'}, {'team': 'MTL', 'shootingPct': '6.69'}, {'team': 'DAL', 'shootingPct': '6.69'}, {'team': 'OTT', 'shootingPct': '6.58'}, {'team': 'BOS', 'shootingPct': '6.45'}, {'team': 'SEA', 'shootingPct': '6.42'}, {'team': 'SJS', 'shootingPct': '6.39'}, {'team': 'PHI', 'shootingPct': '6.17'}, {'team': 'LAK', 'shootingPct': '5.98'}]}\n"
     ]
    }
   ],
   "source": [
    "url = 'http://127.0.0.1:5000/getTeamShootingPct?season=2021&playoffs=0'\n",
    "r = requests.get(url)\n",
    "data = json.loads(r.text)\n",
    "print(data)"
   ]
  },
  {
   "cell_type": "code",
   "execution_count": 8,
   "metadata": {},
   "outputs": [
    {
     "name": "stdout",
     "output_type": "stream",
     "text": [
      "{'code': 1, 'msg': 'ok', 'req': '/getPlayerChart', 'rows': [{'xcord': 76, 'ycord': 19, 'event': 'SHOT', 'name': 'Connor McDavid'}, {'xcord': 82, 'ycord': 4, 'event': 'GOAL', 'name': 'Connor McDavid'}, {'xcord': 81, 'ycord': 9, 'event': 'GOAL', 'name': 'Connor McDavid'}, {'xcord': 79, 'ycord': -1, 'event': 'MISS', 'name': 'Connor McDavid'}, {'xcord': 55, 'ycord': -27, 'event': 'SHOT', 'name': 'Connor McDavid'}, {'xcord': 58, 'ycord': -37, 'event': 'SHOT', 'name': 'Connor McDavid'}, {'xcord': 52, 'ycord': 22, 'event': 'SHOT', 'name': 'Connor McDavid'}, {'xcord': 75, 'ycord': 17, 'event': 'SHOT', 'name': 'Connor McDavid'}, {'xcord': 85, 'ycord': -4, 'event': 'SHOT', 'name': 'Connor McDavid'}, {'xcord': 57, 'ycord': -13, 'event': 'SHOT', 'name': 'Connor McDavid'}, {'xcord': 80, 'ycord': 13, 'event': 'SHOT', 'name': 'Connor McDavid'}, {'xcord': 68, 'ycord': 18, 'event': 'SHOT', 'name': 'Connor McDavid'}, {'xcord': 87, 'ycord': -2, 'event': 'GOAL', 'name': 'Connor McDavid'}, {'xcord': 88, 'ycord': -12, 'event': 'SHOT', 'name': 'Connor McDavid'}, {'xcord': 63, 'ycord': -15, 'event': 'SHOT', 'name': 'Connor McDavid'}, {'xcord': 88, 'ycord': -22, 'event': 'GOAL', 'name': 'Connor McDavid'}, {'xcord': 68, 'ycord': -3, 'event': 'SHOT', 'name': 'Connor McDavid'}, {'xcord': 79, 'ycord': 0, 'event': 'MISS', 'name': 'Connor McDavid'}, {'xcord': 84, 'ycord': -1, 'event': 'SHOT', 'name': 'Connor McDavid'}, {'xcord': 76, 'ycord': -7, 'event': 'GOAL', 'name': 'Connor McDavid'}, {'xcord': 75, 'ycord': 2, 'event': 'MISS', 'name': 'Connor McDavid'}, {'xcord': 60, 'ycord': -16, 'event': 'SHOT', 'name': 'Connor McDavid'}, {'xcord': 81, 'ycord': -8, 'event': 'SHOT', 'name': 'Connor McDavid'}, {'xcord': 79, 'ycord': 2, 'event': 'SHOT', 'name': 'Connor McDavid'}, {'xcord': 84, 'ycord': 7, 'event': 'SHOT', 'name': 'Connor McDavid'}, {'xcord': 25, 'ycord': 11, 'event': 'MISS', 'name': 'Connor McDavid'}, {'xcord': 56, 'ycord': 28, 'event': 'SHOT', 'name': 'Connor McDavid'}, {'xcord': 60, 'ycord': -33, 'event': 'MISS', 'name': 'Connor McDavid'}, {'xcord': 70, 'ycord': 14, 'event': 'SHOT', 'name': 'Connor McDavid'}, {'xcord': 58, 'ycord': 2, 'event': 'SHOT', 'name': 'Connor McDavid'}, {'xcord': 69, 'ycord': 0, 'event': 'SHOT', 'name': 'Connor McDavid'}, {'xcord': 44, 'ycord': 1, 'event': 'SHOT', 'name': 'Connor McDavid'}, {'xcord': 64, 'ycord': 0, 'event': 'SHOT', 'name': 'Connor McDavid'}, {'xcord': 78, 'ycord': 12, 'event': 'SHOT', 'name': 'Connor McDavid'}, {'xcord': 78, 'ycord': -5, 'event': 'MISS', 'name': 'Connor McDavid'}, {'xcord': 78, 'ycord': -3, 'event': 'SHOT', 'name': 'Connor McDavid'}, {'xcord': 77, 'ycord': -5, 'event': 'SHOT', 'name': 'Connor McDavid'}, {'xcord': 66, 'ycord': 2, 'event': 'GOAL', 'name': 'Connor McDavid'}, {'xcord': 86, 'ycord': 8, 'event': 'SHOT', 'name': 'Connor McDavid'}, {'xcord': 61, 'ycord': -4, 'event': 'SHOT', 'name': 'Connor McDavid'}, {'xcord': 59, 'ycord': 13, 'event': 'MISS', 'name': 'Connor McDavid'}, {'xcord': 73, 'ycord': 6, 'event': 'SHOT', 'name': 'Connor McDavid'}, {'xcord': 55, 'ycord': 17, 'event': 'MISS', 'name': 'Connor McDavid'}, {'xcord': 77, 'ycord': -4, 'event': 'SHOT', 'name': 'Connor McDavid'}, {'xcord': 62, 'ycord': -4, 'event': 'MISS', 'name': 'Connor McDavid'}, {'xcord': 79, 'ycord': 14, 'event': 'SHOT', 'name': 'Connor McDavid'}, {'xcord': 61, 'ycord': 33, 'event': 'MISS', 'name': 'Connor McDavid'}, {'xcord': 80, 'ycord': 1, 'event': 'MISS', 'name': 'Connor McDavid'}, {'xcord': 68, 'ycord': 11, 'event': 'SHOT', 'name': 'Connor McDavid'}, {'xcord': 85, 'ycord': 22, 'event': 'SHOT', 'name': 'Connor McDavid'}, {'xcord': 72, 'ycord': 15, 'event': 'SHOT', 'name': 'Connor McDavid'}, {'xcord': 54, 'ycord': 11, 'event': 'SHOT', 'name': 'Connor McDavid'}, {'xcord': 82, 'ycord': 15, 'event': 'SHOT', 'name': 'Connor McDavid'}, {'xcord': 61, 'ycord': -16, 'event': 'SHOT', 'name': 'Connor McDavid'}, {'xcord': 77, 'ycord': -15, 'event': 'SHOT', 'name': 'Connor McDavid'}, {'xcord': 68, 'ycord': -9, 'event': 'SHOT', 'name': 'Connor McDavid'}, {'xcord': 82, 'ycord': 2, 'event': 'GOAL', 'name': 'Connor McDavid'}, {'xcord': 68, 'ycord': -2, 'event': 'SHOT', 'name': 'Connor McDavid'}, {'xcord': 50, 'ycord': -20, 'event': 'MISS', 'name': 'Connor McDavid'}, {'xcord': 83, 'ycord': 9, 'event': 'SHOT', 'name': 'Connor McDavid'}, {'xcord': 78, 'ycord': -7, 'event': 'SHOT', 'name': 'Connor McDavid'}, {'xcord': 56, 'ycord': 10, 'event': 'MISS', 'name': 'Connor McDavid'}, {'xcord': 83, 'ycord': 10, 'event': 'GOAL', 'name': 'Connor McDavid'}, {'xcord': 86, 'ycord': 1, 'event': 'SHOT', 'name': 'Connor McDavid'}, {'xcord': 86, 'ycord': 5, 'event': 'SHOT', 'name': 'Connor McDavid'}, {'xcord': 37, 'ycord': -16, 'event': 'SHOT', 'name': 'Connor McDavid'}, {'xcord': 81, 'ycord': 4, 'event': 'SHOT', 'name': 'Connor McDavid'}, {'xcord': 68, 'ycord': -15, 'event': 'SHOT', 'name': 'Connor McDavid'}, {'xcord': 75, 'ycord': 28, 'event': 'SHOT', 'name': 'Connor McDavid'}, {'xcord': 80, 'ycord': -7, 'event': 'SHOT', 'name': 'Connor McDavid'}, {'xcord': 60, 'ycord': -3, 'event': 'SHOT', 'name': 'Connor McDavid'}, {'xcord': 34, 'ycord': 17, 'event': 'MISS', 'name': 'Connor McDavid'}, {'xcord': 73, 'ycord': -15, 'event': 'SHOT', 'name': 'Connor McDavid'}, {'xcord': 67, 'ycord': 19, 'event': 'MISS', 'name': 'Connor McDavid'}, {'xcord': 78, 'ycord': 12, 'event': 'GOAL', 'name': 'Connor McDavid'}, {'xcord': 69, 'ycord': -5, 'event': 'SHOT', 'name': 'Connor McDavid'}, {'xcord': 57, 'ycord': 28, 'event': 'SHOT', 'name': 'Connor McDavid'}, {'xcord': 83, 'ycord': 5, 'event': 'GOAL', 'name': 'Connor McDavid'}, {'xcord': 67, 'ycord': -14, 'event': 'GOAL', 'name': 'Connor McDavid'}, {'xcord': 82, 'ycord': 5, 'event': 'MISS', 'name': 'Connor McDavid'}, {'xcord': 70, 'ycord': 6, 'event': 'MISS', 'name': 'Connor McDavid'}, {'xcord': 84, 'ycord': 18, 'event': 'SHOT', 'name': 'Connor McDavid'}, {'xcord': 76, 'ycord': 1, 'event': 'SHOT', 'name': 'Connor McDavid'}, {'xcord': 56, 'ycord': -13, 'event': 'GOAL', 'name': 'Connor McDavid'}, {'xcord': 49, 'ycord': 0, 'event': 'GOAL', 'name': 'Connor McDavid'}, {'xcord': 49, 'ycord': -18, 'event': 'SHOT', 'name': 'Connor McDavid'}, {'xcord': 52, 'ycord': -19, 'event': 'GOAL', 'name': 'Connor McDavid'}, {'xcord': 80, 'ycord': -8, 'event': 'SHOT', 'name': 'Connor McDavid'}, {'xcord': 42, 'ycord': -13, 'event': 'SHOT', 'name': 'Connor McDavid'}, {'xcord': 76, 'ycord': 28, 'event': 'SHOT', 'name': 'Connor McDavid'}, {'xcord': 87, 'ycord': -4, 'event': 'SHOT', 'name': 'Connor McDavid'}, {'xcord': 85, 'ycord': -4, 'event': 'SHOT', 'name': 'Connor McDavid'}, {'xcord': 63, 'ycord': 22, 'event': 'SHOT', 'name': 'Connor McDavid'}, {'xcord': 90, 'ycord': -3, 'event': 'MISS', 'name': 'Connor McDavid'}, {'xcord': 81, 'ycord': -7, 'event': 'SHOT', 'name': 'Connor McDavid'}, {'xcord': 80, 'ycord': 1, 'event': 'SHOT', 'name': 'Connor McDavid'}, {'xcord': 86, 'ycord': -11, 'event': 'GOAL', 'name': 'Connor McDavid'}, {'xcord': 53, 'ycord': 6, 'event': 'MISS', 'name': 'Connor McDavid'}, {'xcord': 79, 'ycord': -3, 'event': 'GOAL', 'name': 'Connor McDavid'}, {'xcord': 39, 'ycord': -36, 'event': 'SHOT', 'name': 'Connor McDavid'}, {'xcord': 55, 'ycord': -15, 'event': 'SHOT', 'name': 'Connor McDavid'}, {'xcord': 83, 'ycord': -30, 'event': 'MISS', 'name': 'Connor McDavid'}, {'xcord': 71, 'ycord': -4, 'event': 'SHOT', 'name': 'Connor McDavid'}, {'xcord': 85, 'ycord': 8, 'event': 'GOAL', 'name': 'Connor McDavid'}, {'xcord': 54, 'ycord': 31, 'event': 'MISS', 'name': 'Connor McDavid'}, {'xcord': 55, 'ycord': 21, 'event': 'SHOT', 'name': 'Connor McDavid'}, {'xcord': 72, 'ycord': 20, 'event': 'GOAL', 'name': 'Connor McDavid'}, {'xcord': 59, 'ycord': -17, 'event': 'SHOT', 'name': 'Connor McDavid'}, {'xcord': 63, 'ycord': 12, 'event': 'SHOT', 'name': 'Connor McDavid'}, {'xcord': 62, 'ycord': -23, 'event': 'SHOT', 'name': 'Connor McDavid'}, {'xcord': 84, 'ycord': -11, 'event': 'SHOT', 'name': 'Connor McDavid'}, {'xcord': 83, 'ycord': 11, 'event': 'MISS', 'name': 'Connor McDavid'}, {'xcord': 78, 'ycord': -4, 'event': 'MISS', 'name': 'Connor McDavid'}, {'xcord': 71, 'ycord': 13, 'event': 'MISS', 'name': 'Connor McDavid'}, {'xcord': 75, 'ycord': -6, 'event': 'SHOT', 'name': 'Connor McDavid'}, {'xcord': 84, 'ycord': -6, 'event': 'SHOT', 'name': 'Connor McDavid'}, {'xcord': 81, 'ycord': 22, 'event': 'SHOT', 'name': 'Connor McDavid'}, {'xcord': 67, 'ycord': 10, 'event': 'MISS', 'name': 'Connor McDavid'}, {'xcord': 69, 'ycord': -4, 'event': 'GOAL', 'name': 'Connor McDavid'}, {'xcord': 67, 'ycord': 21, 'event': 'MISS', 'name': 'Connor McDavid'}, {'xcord': 68, 'ycord': 22, 'event': 'SHOT', 'name': 'Connor McDavid'}, {'xcord': 61, 'ycord': -17, 'event': 'SHOT', 'name': 'Connor McDavid'}, {'xcord': 78, 'ycord': 7, 'event': 'SHOT', 'name': 'Connor McDavid'}, {'xcord': 77, 'ycord': 26, 'event': 'SHOT', 'name': 'Connor McDavid'}, {'xcord': 77, 'ycord': 3, 'event': 'MISS', 'name': 'Connor McDavid'}, {'xcord': 71, 'ycord': 15, 'event': 'SHOT', 'name': 'Connor McDavid'}, {'xcord': 82, 'ycord': -5, 'event': 'SHOT', 'name': 'Connor McDavid'}, {'xcord': 55, 'ycord': 13, 'event': 'SHOT', 'name': 'Connor McDavid'}, {'xcord': 84, 'ycord': -1, 'event': 'SHOT', 'name': 'Connor McDavid'}, {'xcord': 71, 'ycord': -18, 'event': 'SHOT', 'name': 'Connor McDavid'}, {'xcord': 63, 'ycord': -25, 'event': 'SHOT', 'name': 'Connor McDavid'}, {'xcord': 79, 'ycord': -6, 'event': 'MISS', 'name': 'Connor McDavid'}, {'xcord': 65, 'ycord': 4, 'event': 'SHOT', 'name': 'Connor McDavid'}, {'xcord': 76, 'ycord': -10, 'event': 'MISS', 'name': 'Connor McDavid'}, {'xcord': 81, 'ycord': 9, 'event': 'MISS', 'name': 'Connor McDavid'}, {'xcord': 59, 'ycord': -13, 'event': 'SHOT', 'name': 'Connor McDavid'}, {'xcord': 84, 'ycord': -8, 'event': 'MISS', 'name': 'Connor McDavid'}, {'xcord': 69, 'ycord': -19, 'event': 'GOAL', 'name': 'Connor McDavid'}, {'xcord': 60, 'ycord': 26, 'event': 'MISS', 'name': 'Connor McDavid'}, {'xcord': 81, 'ycord': -6, 'event': 'SHOT', 'name': 'Connor McDavid'}, {'xcord': 77, 'ycord': 18, 'event': 'SHOT', 'name': 'Connor McDavid'}, {'xcord': 67, 'ycord': 19, 'event': 'SHOT', 'name': 'Connor McDavid'}, {'xcord': 66, 'ycord': 17, 'event': 'SHOT', 'name': 'Connor McDavid'}, {'xcord': 76, 'ycord': 4, 'event': 'MISS', 'name': 'Connor McDavid'}, {'xcord': 68, 'ycord': -16, 'event': 'SHOT', 'name': 'Connor McDavid'}, {'xcord': 84, 'ycord': -11, 'event': 'SHOT', 'name': 'Connor McDavid'}, {'xcord': 55, 'ycord': -23, 'event': 'SHOT', 'name': 'Connor McDavid'}, {'xcord': 73, 'ycord': 3, 'event': 'MISS', 'name': 'Connor McDavid'}, {'xcord': 87, 'ycord': -5, 'event': 'SHOT', 'name': 'Connor McDavid'}, {'xcord': 72, 'ycord': 14, 'event': 'SHOT', 'name': 'Connor McDavid'}, {'xcord': 52, 'ycord': 4, 'event': 'MISS', 'name': 'Connor McDavid'}, {'xcord': 83, 'ycord': 12, 'event': 'MISS', 'name': 'Connor McDavid'}, {'xcord': 88, 'ycord': -32, 'event': 'SHOT', 'name': 'Connor McDavid'}, {'xcord': 60, 'ycord': 13, 'event': 'SHOT', 'name': 'Connor McDavid'}, {'xcord': 70, 'ycord': -16, 'event': 'SHOT', 'name': 'Connor McDavid'}, {'xcord': 83, 'ycord': 19, 'event': 'SHOT', 'name': 'Connor McDavid'}, {'xcord': 83, 'ycord': 4, 'event': 'GOAL', 'name': 'Connor McDavid'}, {'xcord': 63, 'ycord': 19, 'event': 'SHOT', 'name': 'Connor McDavid'}, {'xcord': 83, 'ycord': -34, 'event': 'SHOT', 'name': 'Connor McDavid'}, {'xcord': 81, 'ycord': -12, 'event': 'SHOT', 'name': 'Connor McDavid'}, {'xcord': 75, 'ycord': 18, 'event': 'SHOT', 'name': 'Connor McDavid'}, {'xcord': 64, 'ycord': 7, 'event': 'GOAL', 'name': 'Connor McDavid'}, {'xcord': 64, 'ycord': 1, 'event': 'SHOT', 'name': 'Connor McDavid'}, {'xcord': 58, 'ycord': -18, 'event': 'SHOT', 'name': 'Connor McDavid'}, {'xcord': 60, 'ycord': 31, 'event': 'SHOT', 'name': 'Connor McDavid'}, {'xcord': 74, 'ycord': 2, 'event': 'SHOT', 'name': 'Connor McDavid'}, {'xcord': 77, 'ycord': 1, 'event': 'SHOT', 'name': 'Connor McDavid'}, {'xcord': 84, 'ycord': 15, 'event': 'SHOT', 'name': 'Connor McDavid'}, {'xcord': 63, 'ycord': -2, 'event': 'SHOT', 'name': 'Connor McDavid'}, {'xcord': 77, 'ycord': 17, 'event': 'SHOT', 'name': 'Connor McDavid'}, {'xcord': 70, 'ycord': -13, 'event': 'SHOT', 'name': 'Connor McDavid'}, {'xcord': 82, 'ycord': -16, 'event': 'MISS', 'name': 'Connor McDavid'}, {'xcord': 82, 'ycord': -2, 'event': 'SHOT', 'name': 'Connor McDavid'}, {'xcord': 67, 'ycord': -4, 'event': 'GOAL', 'name': 'Connor McDavid'}, {'xcord': 66, 'ycord': -6, 'event': 'SHOT', 'name': 'Connor McDavid'}, {'xcord': 55, 'ycord': 15, 'event': 'SHOT', 'name': 'Connor McDavid'}, {'xcord': 76, 'ycord': -9, 'event': 'SHOT', 'name': 'Connor McDavid'}, {'xcord': 81, 'ycord': -13, 'event': 'SHOT', 'name': 'Connor McDavid'}, {'xcord': 84, 'ycord': -4, 'event': 'MISS', 'name': 'Connor McDavid'}, {'xcord': 71, 'ycord': 7, 'event': 'SHOT', 'name': 'Connor McDavid'}, {'xcord': 60, 'ycord': 28, 'event': 'SHOT', 'name': 'Connor McDavid'}, {'xcord': 79, 'ycord': 1, 'event': 'GOAL', 'name': 'Connor McDavid'}, {'xcord': 78, 'ycord': -3, 'event': 'SHOT', 'name': 'Connor McDavid'}, {'xcord': 83, 'ycord': -7, 'event': 'SHOT', 'name': 'Connor McDavid'}, {'xcord': 86, 'ycord': -6, 'event': 'SHOT', 'name': 'Connor McDavid'}, {'xcord': 78, 'ycord': 0, 'event': 'GOAL', 'name': 'Connor McDavid'}, {'xcord': 66, 'ycord': -20, 'event': 'SHOT', 'name': 'Connor McDavid'}, {'xcord': 88, 'ycord': -4, 'event': 'SHOT', 'name': 'Connor McDavid'}, {'xcord': 66, 'ycord': 32, 'event': 'SHOT', 'name': 'Connor McDavid'}, {'xcord': 74, 'ycord': -3, 'event': 'SHOT', 'name': 'Connor McDavid'}, {'xcord': 79, 'ycord': 2, 'event': 'SHOT', 'name': 'Connor McDavid'}, {'xcord': 69, 'ycord': 18, 'event': 'GOAL', 'name': 'Connor McDavid'}, {'xcord': 75, 'ycord': -13, 'event': 'SHOT', 'name': 'Connor McDavid'}, {'xcord': 78, 'ycord': 0, 'event': 'GOAL', 'name': 'Connor McDavid'}, {'xcord': 81, 'ycord': -17, 'event': 'MISS', 'name': 'Connor McDavid'}, {'xcord': 65, 'ycord': -20, 'event': 'SHOT', 'name': 'Connor McDavid'}, {'xcord': 76, 'ycord': -6, 'event': 'SHOT', 'name': 'Connor McDavid'}, {'xcord': 85, 'ycord': 15, 'event': 'SHOT', 'name': 'Connor McDavid'}, {'xcord': 83, 'ycord': 7, 'event': 'SHOT', 'name': 'Connor McDavid'}, {'xcord': 56, 'ycord': -13, 'event': 'MISS', 'name': 'Connor McDavid'}, {'xcord': 67, 'ycord': -16, 'event': 'MISS', 'name': 'Connor McDavid'}, {'xcord': 82, 'ycord': -3, 'event': 'SHOT', 'name': 'Connor McDavid'}, {'xcord': 35, 'ycord': -2, 'event': 'SHOT', 'name': 'Connor McDavid'}, {'xcord': 14, 'ycord': 37, 'event': 'SHOT', 'name': 'Connor McDavid'}, {'xcord': 83, 'ycord': -10, 'event': 'SHOT', 'name': 'Connor McDavid'}, {'xcord': 71, 'ycord': -21, 'event': 'SHOT', 'name': 'Connor McDavid'}, {'xcord': 70, 'ycord': -10, 'event': 'GOAL', 'name': 'Connor McDavid'}, {'xcord': 67, 'ycord': -17, 'event': 'GOAL', 'name': 'Connor McDavid'}, {'xcord': 52, 'ycord': -10, 'event': 'SHOT', 'name': 'Connor McDavid'}, {'xcord': 85, 'ycord': 15, 'event': 'MISS', 'name': 'Connor McDavid'}, {'xcord': 75, 'ycord': 13, 'event': 'SHOT', 'name': 'Connor McDavid'}, {'xcord': 59, 'ycord': 22, 'event': 'SHOT', 'name': 'Connor McDavid'}, {'xcord': 82, 'ycord': 10, 'event': 'SHOT', 'name': 'Connor McDavid'}, {'xcord': 86, 'ycord': -2, 'event': 'SHOT', 'name': 'Connor McDavid'}, {'xcord': 36, 'ycord': -13, 'event': 'SHOT', 'name': 'Connor McDavid'}, {'xcord': 84, 'ycord': 3, 'event': 'GOAL', 'name': 'Connor McDavid'}, {'xcord': 52, 'ycord': -25, 'event': 'SHOT', 'name': 'Connor McDavid'}, {'xcord': 92, 'ycord': 14, 'event': 'SHOT', 'name': 'Connor McDavid'}, {'xcord': 49, 'ycord': -25, 'event': 'SHOT', 'name': 'Connor McDavid'}, {'xcord': 83, 'ycord': -1, 'event': 'SHOT', 'name': 'Connor McDavid'}, {'xcord': 67, 'ycord': 22, 'event': 'MISS', 'name': 'Connor McDavid'}, {'xcord': 64, 'ycord': -29, 'event': 'SHOT', 'name': 'Connor McDavid'}, {'xcord': 80, 'ycord': 24, 'event': 'SHOT', 'name': 'Connor McDavid'}, {'xcord': 74, 'ycord': -9, 'event': 'SHOT', 'name': 'Connor McDavid'}, {'xcord': 77, 'ycord': -5, 'event': 'MISS', 'name': 'Connor McDavid'}, {'xcord': 64, 'ycord': 0, 'event': 'SHOT', 'name': 'Connor McDavid'}, {'xcord': 84, 'ycord': -8, 'event': 'GOAL', 'name': 'Connor McDavid'}, {'xcord': 66, 'ycord': 18, 'event': 'SHOT', 'name': 'Connor McDavid'}, {'xcord': 60, 'ycord': -11, 'event': 'SHOT', 'name': 'Connor McDavid'}, {'xcord': 62, 'ycord': -18, 'event': 'MISS', 'name': 'Connor McDavid'}, {'xcord': 76, 'ycord': 3, 'event': 'MISS', 'name': 'Connor McDavid'}, {'xcord': 78, 'ycord': -2, 'event': 'SHOT', 'name': 'Connor McDavid'}, {'xcord': 76, 'ycord': 8, 'event': 'SHOT', 'name': 'Connor McDavid'}, {'xcord': 55, 'ycord': 5, 'event': 'SHOT', 'name': 'Connor McDavid'}, {'xcord': 76, 'ycord': -4, 'event': 'MISS', 'name': 'Connor McDavid'}, {'xcord': 79, 'ycord': -12, 'event': 'MISS', 'name': 'Connor McDavid'}, {'xcord': 65, 'ycord': 20, 'event': 'SHOT', 'name': 'Connor McDavid'}, {'xcord': 87, 'ycord': 18, 'event': 'SHOT', 'name': 'Connor McDavid'}, {'xcord': 82, 'ycord': 22, 'event': 'SHOT', 'name': 'Connor McDavid'}, {'xcord': 63, 'ycord': -16, 'event': 'SHOT', 'name': 'Connor McDavid'}, {'xcord': 70, 'ycord': -13, 'event': 'SHOT', 'name': 'Connor McDavid'}, {'xcord': 77, 'ycord': -2, 'event': 'SHOT', 'name': 'Connor McDavid'}, {'xcord': 77, 'ycord': 8, 'event': 'SHOT', 'name': 'Connor McDavid'}, {'xcord': 69, 'ycord': -12, 'event': 'SHOT', 'name': 'Connor McDavid'}, {'xcord': 63, 'ycord': 24, 'event': 'MISS', 'name': 'Connor McDavid'}, {'xcord': 46, 'ycord': 5, 'event': 'GOAL', 'name': 'Connor McDavid'}, {'xcord': 83, 'ycord': 19, 'event': 'SHOT', 'name': 'Connor McDavid'}, {'xcord': 74, 'ycord': -21, 'event': 'MISS', 'name': 'Connor McDavid'}, {'xcord': 69, 'ycord': 14, 'event': 'SHOT', 'name': 'Connor McDavid'}, {'xcord': 57, 'ycord': -24, 'event': 'MISS', 'name': 'Connor McDavid'}, {'xcord': 81, 'ycord': -9, 'event': 'SHOT', 'name': 'Connor McDavid'}, {'xcord': 67, 'ycord': 14, 'event': 'SHOT', 'name': 'Connor McDavid'}, {'xcord': 84, 'ycord': -16, 'event': 'SHOT', 'name': 'Connor McDavid'}, {'xcord': 80, 'ycord': 2, 'event': 'SHOT', 'name': 'Connor McDavid'}, {'xcord': 81, 'ycord': -19, 'event': 'SHOT', 'name': 'Connor McDavid'}, {'xcord': 54, 'ycord': 26, 'event': 'SHOT', 'name': 'Connor McDavid'}, {'xcord': 84, 'ycord': -5, 'event': 'SHOT', 'name': 'Connor McDavid'}, {'xcord': 84, 'ycord': 5, 'event': 'GOAL', 'name': 'Connor McDavid'}, {'xcord': 58, 'ycord': 3, 'event': 'SHOT', 'name': 'Connor McDavid'}, {'xcord': 53, 'ycord': 24, 'event': 'SHOT', 'name': 'Connor McDavid'}, {'xcord': 86, 'ycord': 4, 'event': 'GOAL', 'name': 'Connor McDavid'}, {'xcord': 86, 'ycord': 20, 'event': 'MISS', 'name': 'Connor McDavid'}, {'xcord': 33, 'ycord': -4, 'event': 'SHOT', 'name': 'Connor McDavid'}]}\n"
     ]
    }
   ],
   "source": [
    "url = 'http://127.0.0.1:5000/getPlayerChart?name=Connor McDavid&season=2019&playoffs=0'\n",
    "r = requests.get(url)\n",
    "data = json.loads(r.text)\n",
    "print(data)"
   ]
  },
  {
   "cell_type": "code",
   "execution_count": 6,
   "metadata": {},
   "outputs": [
    {
     "name": "stdout",
     "output_type": "stream",
     "text": [
      "{'code': 1, 'msg': 'ok', 'req': '/getAdvStats', 'rows': [{'goals': 53, 'generatedRebounds': 39, 'goalieFroze': 136, 'onEmptyNet': 8, 'rebounds': 39, 'onRush': 1, 'onGoal': 610}]}\n"
     ]
    }
   ],
   "source": [
    "url = 'http://127.0.0.1:5000/getAdvstats?team=VGK&season=2020&playoffs=1'\n",
    "r = requests.get(url)\n",
    "data = json.loads(r.text)\n",
    "print(data)"
   ]
  }
 ],
 "metadata": {
  "kernelspec": {
   "display_name": "Python 3",
   "language": "python",
   "name": "python3"
  },
  "language_info": {
   "codemirror_mode": {
    "name": "ipython",
    "version": 3
   },
   "file_extension": ".py",
   "mimetype": "text/x-python",
   "name": "python",
   "nbconvert_exporter": "python",
   "pygments_lexer": "ipython3",
   "version": "3.9.1"
  }
 },
 "nbformat": 4,
 "nbformat_minor": 2
}
